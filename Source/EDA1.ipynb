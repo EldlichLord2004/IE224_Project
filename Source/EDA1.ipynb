{
 "cells": [
  {
   "cell_type": "code",
   "execution_count": 2,
   "metadata": {},
   "outputs": [],
   "source": [
    "import pandas as pd\n",
    "import numpy as np\n",
    "import matplotlib.pyplot as plt\n",
    "import seaborn as sns\n"
   ]
  },
  {
   "cell_type": "markdown",
   "metadata": {},
   "source": [
    "## Nạp vào và thống kê tổng quan bộ dữ liệu"
   ]
  },
  {
   "cell_type": "code",
   "execution_count": 12,
   "metadata": {},
   "outputs": [
    {
     "data": {
      "text/html": [
       "<div>\n",
       "<style scoped>\n",
       "    .dataframe tbody tr th:only-of-type {\n",
       "        vertical-align: middle;\n",
       "    }\n",
       "\n",
       "    .dataframe tbody tr th {\n",
       "        vertical-align: top;\n",
       "    }\n",
       "\n",
       "    .dataframe thead th {\n",
       "        text-align: right;\n",
       "    }\n",
       "</style>\n",
       "<table border=\"1\" class=\"dataframe\">\n",
       "  <thead>\n",
       "    <tr style=\"text-align: right;\">\n",
       "      <th></th>\n",
       "      <th>gameid</th>\n",
       "      <th>datacompleteness</th>\n",
       "      <th>league</th>\n",
       "      <th>year</th>\n",
       "      <th>split</th>\n",
       "      <th>playoffs</th>\n",
       "      <th>date</th>\n",
       "      <th>game</th>\n",
       "      <th>patch</th>\n",
       "      <th>participantid</th>\n",
       "      <th>...</th>\n",
       "      <th>opp_csat25</th>\n",
       "      <th>golddiffat25</th>\n",
       "      <th>xpdiffat25</th>\n",
       "      <th>csdiffat25</th>\n",
       "      <th>killsat25</th>\n",
       "      <th>assistsat25</th>\n",
       "      <th>deathsat25</th>\n",
       "      <th>opp_killsat25</th>\n",
       "      <th>opp_assistsat25</th>\n",
       "      <th>opp_deathsat25</th>\n",
       "    </tr>\n",
       "  </thead>\n",
       "  <tbody>\n",
       "    <tr>\n",
       "      <th>0</th>\n",
       "      <td>LOLTMNT06_13630</td>\n",
       "      <td>complete</td>\n",
       "      <td>LEC</td>\n",
       "      <td>2024</td>\n",
       "      <td>Winter</td>\n",
       "      <td>0</td>\n",
       "      <td>2024-01-13 16:10:20</td>\n",
       "      <td>1</td>\n",
       "      <td>14.01</td>\n",
       "      <td>100</td>\n",
       "      <td>...</td>\n",
       "      <td>899.0</td>\n",
       "      <td>1187.0</td>\n",
       "      <td>-2552.0</td>\n",
       "      <td>5.0</td>\n",
       "      <td>9.0</td>\n",
       "      <td>10.0</td>\n",
       "      <td>7.0</td>\n",
       "      <td>7.0</td>\n",
       "      <td>12.0</td>\n",
       "      <td>9.0</td>\n",
       "    </tr>\n",
       "    <tr>\n",
       "      <th>1</th>\n",
       "      <td>LOLTMNT06_13630</td>\n",
       "      <td>complete</td>\n",
       "      <td>LEC</td>\n",
       "      <td>2024</td>\n",
       "      <td>Winter</td>\n",
       "      <td>0</td>\n",
       "      <td>2024-01-13 16:10:20</td>\n",
       "      <td>1</td>\n",
       "      <td>14.01</td>\n",
       "      <td>200</td>\n",
       "      <td>...</td>\n",
       "      <td>904.0</td>\n",
       "      <td>-1187.0</td>\n",
       "      <td>2552.0</td>\n",
       "      <td>-5.0</td>\n",
       "      <td>7.0</td>\n",
       "      <td>12.0</td>\n",
       "      <td>9.0</td>\n",
       "      <td>9.0</td>\n",
       "      <td>10.0</td>\n",
       "      <td>7.0</td>\n",
       "    </tr>\n",
       "  </tbody>\n",
       "</table>\n",
       "<p>2 rows × 148 columns</p>\n",
       "</div>"
      ],
      "text/plain": [
       "            gameid datacompleteness league  year   split  playoffs  \\\n",
       "0  LOLTMNT06_13630         complete    LEC  2024  Winter         0   \n",
       "1  LOLTMNT06_13630         complete    LEC  2024  Winter         0   \n",
       "\n",
       "                  date  game  patch  participantid  ... opp_csat25  \\\n",
       "0  2024-01-13 16:10:20     1  14.01            100  ...      899.0   \n",
       "1  2024-01-13 16:10:20     1  14.01            200  ...      904.0   \n",
       "\n",
       "  golddiffat25 xpdiffat25 csdiffat25 killsat25 assistsat25 deathsat25  \\\n",
       "0       1187.0    -2552.0        5.0       9.0        10.0        7.0   \n",
       "1      -1187.0     2552.0       -5.0       7.0        12.0        9.0   \n",
       "\n",
       "  opp_killsat25 opp_assistsat25 opp_deathsat25  \n",
       "0           7.0            12.0            9.0  \n",
       "1           9.0            10.0            7.0  \n",
       "\n",
       "[2 rows x 148 columns]"
      ]
     },
     "execution_count": 12,
     "metadata": {},
     "output_type": "execute_result"
    }
   ],
   "source": [
    "df = pd.read_csv('../Data/Team_stats_Tournamennts.csv')\n",
    "df.head(2)"
   ]
  }
 ],
 "metadata": {
  "kernelspec": {
   "display_name": "Python 3",
   "language": "python",
   "name": "python3"
  },
  "language_info": {
   "codemirror_mode": {
    "name": "ipython",
    "version": 3
   },
   "file_extension": ".py",
   "mimetype": "text/x-python",
   "name": "python",
   "nbconvert_exporter": "python",
   "pygments_lexer": "ipython3",
   "version": "3.12.6"
  }
 },
 "nbformat": 4,
 "nbformat_minor": 2
}
